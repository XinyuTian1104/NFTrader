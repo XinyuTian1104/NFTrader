{
 "cells": [
  {
   "cell_type": "code",
   "execution_count": 1,
   "metadata": {},
   "outputs": [],
   "source": [
    "import sys\n",
    "\n",
    "sys.path.append('../..')\n"
   ]
  },
  {
   "cell_type": "code",
   "execution_count": 2,
   "metadata": {},
   "outputs": [
    {
     "name": "stderr",
     "output_type": "stream",
     "text": [
      "/Users/crinstaniev/opt/anaconda3/envs/torch/lib/python3.10/site-packages/tqdm/auto.py:21: TqdmWarning: IProgress not found. Please update jupyter and ipywidgets. See https://ipywidgets.readthedocs.io/en/stable/user_install.html\n",
      "  from .autonotebook import tqdm as notebook_tqdm\n"
     ]
    }
   ],
   "source": [
    "import matplotlib.pyplot as plt\n",
    "import numpy as np\n",
    "import pandas as pd\n",
    "import scienceplots\n",
    "import torch\n",
    "\n",
    "from core.environment.env import Environment\n",
    "from core.model.decision_network.network import DecisionNetwork"
   ]
  },
  {
   "cell_type": "code",
   "execution_count": 3,
   "metadata": {},
   "outputs": [],
   "source": [
    "plt.style.use('science')"
   ]
  },
  {
   "cell_type": "code",
   "execution_count": 4,
   "metadata": {},
   "outputs": [],
   "source": [
    "env = Environment()"
   ]
  },
  {
   "cell_type": "code",
   "execution_count": 5,
   "metadata": {},
   "outputs": [
    {
     "name": "stderr",
     "output_type": "stream",
     "text": [
      "Some weights of the model checkpoint at bert-base-uncased were not used when initializing BertModel: ['cls.predictions.transform.LayerNorm.bias', 'cls.predictions.transform.dense.bias', 'cls.predictions.transform.LayerNorm.weight', 'cls.seq_relationship.bias', 'cls.predictions.decoder.weight', 'cls.predictions.transform.dense.weight', 'cls.seq_relationship.weight', 'cls.predictions.bias']\n",
      "- This IS expected if you are initializing BertModel from the checkpoint of a model trained on another task or with another architecture (e.g. initializing a BertForSequenceClassification model from a BertForPreTraining model).\n",
      "- This IS NOT expected if you are initializing BertModel from the checkpoint of a model that you expect to be exactly identical (initializing a BertForSequenceClassification model from a BertForSequenceClassification model).\n"
     ]
    }
   ],
   "source": [
    "model = DecisionNetwork(\n",
    "    ts_dim=5,\n",
    ")"
   ]
  },
  {
   "cell_type": "code",
   "execution_count": 6,
   "metadata": {},
   "outputs": [
    {
     "name": "stdout",
     "output_type": "stream",
     "text": [
      "current timestep: 17\n",
      "timeseries length: 489\n",
      "current collection id: 0\n",
      "collection id: 0\n"
     ]
    }
   ],
   "source": [
    "observation, info = env.reset()"
   ]
  },
  {
   "cell_type": "code",
   "execution_count": 7,
   "metadata": {},
   "outputs": [
    {
     "data": {
      "text/plain": [
       "dict_keys(['image', 'description', 'ts_feature', 'ts', 'nft_wallet', 'usd_wallet'])"
      ]
     },
     "execution_count": 7,
     "metadata": {},
     "output_type": "execute_result"
    }
   ],
   "source": [
    "observation.keys()"
   ]
  },
  {
   "cell_type": "code",
   "execution_count": 8,
   "metadata": {},
   "outputs": [],
   "source": [
    "image_feature = observation['image']\n",
    "text_feature = observation['description']\n",
    "ts_feature = observation['ts_feature']\n",
    "ts_data = observation['ts']\n",
    "usd_wallet = observation['usd_wallet']\n",
    "nft_wallet = observation['nft_wallet']\n"
   ]
  },
  {
   "cell_type": "code",
   "execution_count": 9,
   "metadata": {},
   "outputs": [
    {
     "data": {
      "text/plain": [
       "torch.Size([1, 16, 5])"
      ]
     },
     "execution_count": 9,
     "metadata": {},
     "output_type": "execute_result"
    }
   ],
   "source": [
    "ts_data.shape"
   ]
  },
  {
   "cell_type": "code",
   "execution_count": 10,
   "metadata": {},
   "outputs": [],
   "source": [
    "action, percentage = model(\n",
    "    ts_features=ts_feature,\n",
    "    image_features=image_feature,\n",
    "    text_features=text_feature,\n",
    "    ts_data=ts_data,\n",
    "    usd_wallet=usd_wallet,\n",
    "    nft_wallet=nft_wallet,\n",
    ")\n",
    "action = torch.argmax(action, dim=1).item()\n",
    "percentage = percentage.item()"
   ]
  },
  {
   "cell_type": "code",
   "execution_count": 11,
   "metadata": {},
   "outputs": [
    {
     "data": {
      "text/plain": [
       "1.0"
      ]
     },
     "execution_count": 11,
     "metadata": {},
     "output_type": "execute_result"
    }
   ],
   "source": [
    "percentage"
   ]
  },
  {
   "cell_type": "code",
   "execution_count": 12,
   "metadata": {},
   "outputs": [
    {
     "data": {
      "text/plain": [
       "0"
      ]
     },
     "execution_count": 12,
     "metadata": {},
     "output_type": "execute_result"
    }
   ],
   "source": [
    "action"
   ]
  },
  {
   "cell_type": "code",
   "execution_count": 13,
   "metadata": {},
   "outputs": [
    {
     "name": "stdout",
     "output_type": "stream",
     "text": [
      "current timestep: 17\n",
      "timeseries length: 489\n",
      "current collection id: 0\n",
      "collection id: 0\n",
      "current timestep: 18\n",
      "timeseries length: 489\n",
      "current collection id: 0\n",
      "collection id: 0\n",
      "{'usd_wallet': 1356.1181640625, 'nft_wallet': 170.0, 'current_price_usd': 4468.0048828125}\n",
      "current timestep: 19\n",
      "timeseries length: 489\n",
      "current collection id: 0\n",
      "collection id: 0\n",
      "{'usd_wallet': 1356.1181640625, 'nft_wallet': 170.0, 'current_price_usd': 3809.012451171875}\n",
      "current timestep: 20\n",
      "timeseries length: 489\n",
      "current collection id: 0\n",
      "collection id: 0\n",
      "{'usd_wallet': 1356.1181640625, 'nft_wallet': 170.0, 'current_price_usd': 5136.52099609375}\n",
      "current timestep: 21\n",
      "timeseries length: 489\n",
      "current collection id: 0\n",
      "collection id: 0\n",
      "{'usd_wallet': 1356.1181640625, 'nft_wallet': 170.0, 'current_price_usd': 4596.74462890625}\n",
      "current timestep: 22\n",
      "timeseries length: 489\n",
      "current collection id: 0\n",
      "collection id: 0\n",
      "{'usd_wallet': 1356.1181640625, 'nft_wallet': 170.0, 'current_price_usd': 4855.14306640625}\n",
      "current timestep: 23\n",
      "timeseries length: 489\n",
      "current collection id: 0\n",
      "collection id: 0\n",
      "{'usd_wallet': 1356.1181640625, 'nft_wallet': 170.0, 'current_price_usd': 5045.68701171875}\n",
      "current timestep: 24\n",
      "timeseries length: 489\n",
      "current collection id: 0\n",
      "collection id: 0\n",
      "{'usd_wallet': 1356.1181640625, 'nft_wallet': 170.0, 'current_price_usd': 5146.45458984375}\n",
      "current timestep: 25\n",
      "timeseries length: 489\n",
      "current collection id: 0\n",
      "collection id: 0\n",
      "{'usd_wallet': 1356.1181640625, 'nft_wallet': 170.0, 'current_price_usd': 5100.77734375}\n",
      "current timestep: 26\n",
      "timeseries length: 489\n",
      "current collection id: 0\n",
      "collection id: 0\n",
      "{'usd_wallet': 1356.1181640625, 'nft_wallet': 170.0, 'current_price_usd': 4460.62890625}\n",
      "current timestep: 27\n",
      "timeseries length: 489\n",
      "current collection id: 0\n",
      "collection id: 0\n",
      "{'usd_wallet': 1356.1181640625, 'nft_wallet': 170.0, 'current_price_usd': 5138.21484375}\n",
      "current timestep: 28\n",
      "timeseries length: 489\n",
      "current collection id: 0\n",
      "collection id: 0\n",
      "{'usd_wallet': 1356.1181640625, 'nft_wallet': 170.0, 'current_price_usd': 5293.46630859375}\n",
      "current timestep: 29\n",
      "timeseries length: 489\n",
      "current collection id: 0\n",
      "collection id: 0\n",
      "{'usd_wallet': 1356.1181640625, 'nft_wallet': 170.0, 'current_price_usd': 5218.1162109375}\n",
      "current timestep: 30\n",
      "timeseries length: 489\n",
      "current collection id: 0\n",
      "collection id: 0\n",
      "{'usd_wallet': 1356.1181640625, 'nft_wallet': 170.0, 'current_price_usd': 5292.23095703125}\n",
      "current timestep: 31\n",
      "timeseries length: 489\n",
      "current collection id: 0\n",
      "collection id: 0\n",
      "{'usd_wallet': 1356.1181640625, 'nft_wallet': 170.0, 'current_price_usd': 5284.38818359375}\n",
      "current timestep: 32\n",
      "timeseries length: 489\n",
      "current collection id: 0\n",
      "collection id: 0\n",
      "{'usd_wallet': 1356.1181640625, 'nft_wallet': 170.0, 'current_price_usd': 5386.6708984375}\n",
      "current timestep: 33\n",
      "timeseries length: 489\n",
      "current collection id: 0\n",
      "collection id: 0\n",
      "{'usd_wallet': 1356.1181640625, 'nft_wallet': 170.0, 'current_price_usd': 6230.0205078125}\n",
      "current timestep: 34\n",
      "timeseries length: 489\n",
      "current collection id: 0\n",
      "collection id: 0\n",
      "{'usd_wallet': 1356.1181640625, 'nft_wallet': 170.0, 'current_price_usd': 6388.73388671875}\n",
      "current timestep: 35\n",
      "timeseries length: 489\n",
      "current collection id: 0\n",
      "collection id: 0\n",
      "{'usd_wallet': 1356.1181640625, 'nft_wallet': 170.0, 'current_price_usd': 7057.12841796875}\n",
      "current timestep: 36\n",
      "timeseries length: 489\n",
      "current collection id: 0\n",
      "collection id: 0\n",
      "{'usd_wallet': 1356.1181640625, 'nft_wallet': 170.0, 'current_price_usd': 10281.20703125}\n",
      "current timestep: 37\n",
      "timeseries length: 489\n",
      "current collection id: 0\n",
      "collection id: 0\n",
      "{'usd_wallet': 1356.1181640625, 'nft_wallet': 170.0, 'current_price_usd': 10976.5}\n",
      "current timestep: 38\n",
      "timeseries length: 489\n",
      "current collection id: 0\n",
      "collection id: 0\n",
      "{'usd_wallet': 1356.1181640625, 'nft_wallet': 170.0, 'current_price_usd': 10440.0498046875}\n",
      "current timestep: 39\n",
      "timeseries length: 489\n",
      "current collection id: 0\n",
      "collection id: 0\n",
      "{'usd_wallet': 1356.1181640625, 'nft_wallet': 170.0, 'current_price_usd': 9365.5654296875}\n",
      "current timestep: 40\n",
      "timeseries length: 489\n",
      "current collection id: 0\n",
      "collection id: 0\n",
      "{'usd_wallet': 1356.1181640625, 'nft_wallet': 170.0, 'current_price_usd': 9276.984375}\n",
      "current timestep: 41\n",
      "timeseries length: 489\n",
      "current collection id: 0\n",
      "collection id: 0\n",
      "{'usd_wallet': 1356.1181640625, 'nft_wallet': 170.0, 'current_price_usd': 12631.7724609375}\n",
      "current timestep: 42\n",
      "timeseries length: 489\n",
      "current collection id: 0\n",
      "collection id: 0\n",
      "{'usd_wallet': 1356.1181640625, 'nft_wallet': 170.0, 'current_price_usd': 14778.0869140625}\n",
      "current timestep: 43\n",
      "timeseries length: 489\n",
      "current collection id: 0\n",
      "collection id: 0\n",
      "{'usd_wallet': 1356.1181640625, 'nft_wallet': 170.0, 'current_price_usd': 12334.0400390625}\n",
      "current timestep: 44\n",
      "timeseries length: 489\n",
      "current collection id: 0\n",
      "collection id: 0\n",
      "{'usd_wallet': 1356.1181640625, 'nft_wallet': 170.0, 'current_price_usd': 12930.912109375}\n",
      "current timestep: 45\n",
      "timeseries length: 489\n",
      "current collection id: 0\n",
      "collection id: 0\n",
      "{'usd_wallet': 1356.1181640625, 'nft_wallet': 170.0, 'current_price_usd': 12649.6875}\n",
      "current timestep: 46\n",
      "timeseries length: 489\n",
      "current collection id: 0\n",
      "collection id: 0\n",
      "{'usd_wallet': 1356.1181640625, 'nft_wallet': 170.0, 'current_price_usd': 13938.8798828125}\n",
      "current timestep: 47\n",
      "timeseries length: 489\n",
      "current collection id: 0\n",
      "collection id: 0\n",
      "{'usd_wallet': 1356.1181640625, 'nft_wallet': 170.0, 'current_price_usd': 17542.89453125}\n",
      "current timestep: 48\n",
      "timeseries length: 489\n",
      "current collection id: 0\n",
      "collection id: 0\n",
      "{'usd_wallet': 1356.1181640625, 'nft_wallet': 170.0, 'current_price_usd': 18136.564453125}\n",
      "current timestep: 49\n",
      "timeseries length: 489\n",
      "current collection id: 0\n",
      "collection id: 0\n",
      "{'usd_wallet': 1356.1181640625, 'nft_wallet': 170.0, 'current_price_usd': 18055.853515625}\n"
     ]
    },
    {
     "ename": "KeyboardInterrupt",
     "evalue": "",
     "output_type": "error",
     "traceback": [
      "\u001b[0;31m---------------------------------------------------------------------------\u001b[0m",
      "\u001b[0;31mKeyboardInterrupt\u001b[0m                         Traceback (most recent call last)",
      "Cell \u001b[0;32mIn[13], line 13\u001b[0m\n\u001b[1;32m      9\u001b[0m infos \u001b[39m=\u001b[39m []\n\u001b[1;32m     11\u001b[0m \u001b[39mfor\u001b[39;00m _ \u001b[39min\u001b[39;00m \u001b[39mrange\u001b[39m(\u001b[39m1000\u001b[39m):\n\u001b[1;32m     12\u001b[0m     \u001b[39m# agent policy that uses the observation and info\u001b[39;00m\n\u001b[0;32m---> 13\u001b[0m     action, percentage \u001b[39m=\u001b[39m model(\n\u001b[1;32m     14\u001b[0m         ts_features\u001b[39m=\u001b[39;49mts_feature,\n\u001b[1;32m     15\u001b[0m         image_features\u001b[39m=\u001b[39;49mimage_feature,\n\u001b[1;32m     16\u001b[0m         text_features\u001b[39m=\u001b[39;49mtext_feature,\n\u001b[1;32m     17\u001b[0m         ts_data\u001b[39m=\u001b[39;49mts_data,\n\u001b[1;32m     18\u001b[0m         usd_wallet\u001b[39m=\u001b[39;49musd_wallet,\n\u001b[1;32m     19\u001b[0m         nft_wallet\u001b[39m=\u001b[39;49mnft_wallet,\n\u001b[1;32m     20\u001b[0m     )\n\u001b[1;32m     21\u001b[0m     action \u001b[39m=\u001b[39m torch\u001b[39m.\u001b[39margmax(action, dim\u001b[39m=\u001b[39m\u001b[39m1\u001b[39m)\u001b[39m.\u001b[39mitem()\n\u001b[1;32m     22\u001b[0m     percentage \u001b[39m=\u001b[39m percentage\u001b[39m.\u001b[39mitem()\n",
      "File \u001b[0;32m~/opt/anaconda3/envs/torch/lib/python3.10/site-packages/torch/nn/modules/module.py:1501\u001b[0m, in \u001b[0;36mModule._call_impl\u001b[0;34m(self, *args, **kwargs)\u001b[0m\n\u001b[1;32m   1496\u001b[0m \u001b[39m# If we don't have any hooks, we want to skip the rest of the logic in\u001b[39;00m\n\u001b[1;32m   1497\u001b[0m \u001b[39m# this function, and just call forward.\u001b[39;00m\n\u001b[1;32m   1498\u001b[0m \u001b[39mif\u001b[39;00m \u001b[39mnot\u001b[39;00m (\u001b[39mself\u001b[39m\u001b[39m.\u001b[39m_backward_hooks \u001b[39mor\u001b[39;00m \u001b[39mself\u001b[39m\u001b[39m.\u001b[39m_backward_pre_hooks \u001b[39mor\u001b[39;00m \u001b[39mself\u001b[39m\u001b[39m.\u001b[39m_forward_hooks \u001b[39mor\u001b[39;00m \u001b[39mself\u001b[39m\u001b[39m.\u001b[39m_forward_pre_hooks\n\u001b[1;32m   1499\u001b[0m         \u001b[39mor\u001b[39;00m _global_backward_pre_hooks \u001b[39mor\u001b[39;00m _global_backward_hooks\n\u001b[1;32m   1500\u001b[0m         \u001b[39mor\u001b[39;00m _global_forward_hooks \u001b[39mor\u001b[39;00m _global_forward_pre_hooks):\n\u001b[0;32m-> 1501\u001b[0m     \u001b[39mreturn\u001b[39;00m forward_call(\u001b[39m*\u001b[39;49margs, \u001b[39m*\u001b[39;49m\u001b[39m*\u001b[39;49mkwargs)\n\u001b[1;32m   1502\u001b[0m \u001b[39m# Do not call functions when jit is used\u001b[39;00m\n\u001b[1;32m   1503\u001b[0m full_backward_hooks, non_full_backward_hooks \u001b[39m=\u001b[39m [], []\n",
      "File \u001b[0;32m~/Courses/STATS402/src/core/tests/../../core/model/decision_network/network.py:45\u001b[0m, in \u001b[0;36mDecisionNetwork.forward\u001b[0;34m(self, ts_features, image_features, text_features, ts_data, usd_wallet, nft_wallet)\u001b[0m\n\u001b[1;32m     41\u001b[0m nft_wallet \u001b[39m=\u001b[39m torch\u001b[39m.\u001b[39mtensor(\n\u001b[1;32m     42\u001b[0m     [nft_wallet], dtype\u001b[39m=\u001b[39mtorch\u001b[39m.\u001b[39mfloat32)\u001b[39m.\u001b[39munsqueeze(\u001b[39m0\u001b[39m)\n\u001b[1;32m     44\u001b[0m \u001b[39m# multimodal encoder\u001b[39;00m\n\u001b[0;32m---> 45\u001b[0m multimodal_encoder_output \u001b[39m=\u001b[39m \u001b[39mself\u001b[39;49m\u001b[39m.\u001b[39;49mmultimodal_encoder(\n\u001b[1;32m     46\u001b[0m     ts_features, image_features, text_features)\n\u001b[1;32m     48\u001b[0m \u001b[39m# Apply the transformer encoder to time series data\u001b[39;00m\n\u001b[1;32m     49\u001b[0m transformer_output \u001b[39m=\u001b[39m \u001b[39mself\u001b[39m\u001b[39m.\u001b[39mtransformer_encoder(ts_data)\n",
      "File \u001b[0;32m~/opt/anaconda3/envs/torch/lib/python3.10/site-packages/torch/nn/modules/module.py:1501\u001b[0m, in \u001b[0;36mModule._call_impl\u001b[0;34m(self, *args, **kwargs)\u001b[0m\n\u001b[1;32m   1496\u001b[0m \u001b[39m# If we don't have any hooks, we want to skip the rest of the logic in\u001b[39;00m\n\u001b[1;32m   1497\u001b[0m \u001b[39m# this function, and just call forward.\u001b[39;00m\n\u001b[1;32m   1498\u001b[0m \u001b[39mif\u001b[39;00m \u001b[39mnot\u001b[39;00m (\u001b[39mself\u001b[39m\u001b[39m.\u001b[39m_backward_hooks \u001b[39mor\u001b[39;00m \u001b[39mself\u001b[39m\u001b[39m.\u001b[39m_backward_pre_hooks \u001b[39mor\u001b[39;00m \u001b[39mself\u001b[39m\u001b[39m.\u001b[39m_forward_hooks \u001b[39mor\u001b[39;00m \u001b[39mself\u001b[39m\u001b[39m.\u001b[39m_forward_pre_hooks\n\u001b[1;32m   1499\u001b[0m         \u001b[39mor\u001b[39;00m _global_backward_pre_hooks \u001b[39mor\u001b[39;00m _global_backward_hooks\n\u001b[1;32m   1500\u001b[0m         \u001b[39mor\u001b[39;00m _global_forward_hooks \u001b[39mor\u001b[39;00m _global_forward_pre_hooks):\n\u001b[0;32m-> 1501\u001b[0m     \u001b[39mreturn\u001b[39;00m forward_call(\u001b[39m*\u001b[39;49margs, \u001b[39m*\u001b[39;49m\u001b[39m*\u001b[39;49mkwargs)\n\u001b[1;32m   1502\u001b[0m \u001b[39m# Do not call functions when jit is used\u001b[39;00m\n\u001b[1;32m   1503\u001b[0m full_backward_hooks, non_full_backward_hooks \u001b[39m=\u001b[39m [], []\n",
      "File \u001b[0;32m~/Courses/STATS402/src/core/tests/../../core/model/encoders/multimodal_encoder.py:36\u001b[0m, in \u001b[0;36mMultimodalEncoder.forward\u001b[0;34m(self, time_series, image, text)\u001b[0m\n\u001b[1;32m     35\u001b[0m \u001b[39mdef\u001b[39;00m \u001b[39mforward\u001b[39m(\u001b[39mself\u001b[39m, time_series, image, text):\n\u001b[0;32m---> 36\u001b[0m     time_series \u001b[39m=\u001b[39m \u001b[39mself\u001b[39;49m\u001b[39m.\u001b[39;49mts_encoder(time_series)\n\u001b[1;32m     37\u001b[0m     image \u001b[39m=\u001b[39m \u001b[39mself\u001b[39m\u001b[39m.\u001b[39mimage_encoder(image)\n\u001b[1;32m     38\u001b[0m     text \u001b[39m=\u001b[39m \u001b[39mself\u001b[39m\u001b[39m.\u001b[39mtext_encoder(text)\n",
      "File \u001b[0;32m~/opt/anaconda3/envs/torch/lib/python3.10/site-packages/torch/nn/modules/module.py:1501\u001b[0m, in \u001b[0;36mModule._call_impl\u001b[0;34m(self, *args, **kwargs)\u001b[0m\n\u001b[1;32m   1496\u001b[0m \u001b[39m# If we don't have any hooks, we want to skip the rest of the logic in\u001b[39;00m\n\u001b[1;32m   1497\u001b[0m \u001b[39m# this function, and just call forward.\u001b[39;00m\n\u001b[1;32m   1498\u001b[0m \u001b[39mif\u001b[39;00m \u001b[39mnot\u001b[39;00m (\u001b[39mself\u001b[39m\u001b[39m.\u001b[39m_backward_hooks \u001b[39mor\u001b[39;00m \u001b[39mself\u001b[39m\u001b[39m.\u001b[39m_backward_pre_hooks \u001b[39mor\u001b[39;00m \u001b[39mself\u001b[39m\u001b[39m.\u001b[39m_forward_hooks \u001b[39mor\u001b[39;00m \u001b[39mself\u001b[39m\u001b[39m.\u001b[39m_forward_pre_hooks\n\u001b[1;32m   1499\u001b[0m         \u001b[39mor\u001b[39;00m _global_backward_pre_hooks \u001b[39mor\u001b[39;00m _global_backward_hooks\n\u001b[1;32m   1500\u001b[0m         \u001b[39mor\u001b[39;00m _global_forward_hooks \u001b[39mor\u001b[39;00m _global_forward_pre_hooks):\n\u001b[0;32m-> 1501\u001b[0m     \u001b[39mreturn\u001b[39;00m forward_call(\u001b[39m*\u001b[39;49margs, \u001b[39m*\u001b[39;49m\u001b[39m*\u001b[39;49mkwargs)\n\u001b[1;32m   1502\u001b[0m \u001b[39m# Do not call functions when jit is used\u001b[39;00m\n\u001b[1;32m   1503\u001b[0m full_backward_hooks, non_full_backward_hooks \u001b[39m=\u001b[39m [], []\n",
      "File \u001b[0;32m~/Courses/STATS402/src/core/tests/../../core/model/encoders/ts_encoder.py:38\u001b[0m, in \u001b[0;36mTimeSeriesEncoder.forward\u001b[0;34m(self, x)\u001b[0m\n\u001b[1;32m     35\u001b[0m pos_enc \u001b[39m=\u001b[39m \u001b[39mself\u001b[39m\u001b[39m.\u001b[39mposition_encoding\u001b[39m.\u001b[39mrepeat(\u001b[39m1\u001b[39m, timesteps, \u001b[39m1\u001b[39m)\n\u001b[1;32m     36\u001b[0m x \u001b[39m=\u001b[39m x \u001b[39m+\u001b[39m pos_enc\n\u001b[0;32m---> 38\u001b[0m x \u001b[39m=\u001b[39m \u001b[39mself\u001b[39;49m\u001b[39m.\u001b[39;49mtransformer_encoder(x)\n\u001b[1;32m     39\u001b[0m x \u001b[39m=\u001b[39m x\u001b[39m.\u001b[39mmean(dim\u001b[39m=\u001b[39m\u001b[39m1\u001b[39m)\n\u001b[1;32m     40\u001b[0m x \u001b[39m=\u001b[39m \u001b[39mself\u001b[39m\u001b[39m.\u001b[39mprojection_layer(x)\n",
      "File \u001b[0;32m~/opt/anaconda3/envs/torch/lib/python3.10/site-packages/torch/nn/modules/module.py:1501\u001b[0m, in \u001b[0;36mModule._call_impl\u001b[0;34m(self, *args, **kwargs)\u001b[0m\n\u001b[1;32m   1496\u001b[0m \u001b[39m# If we don't have any hooks, we want to skip the rest of the logic in\u001b[39;00m\n\u001b[1;32m   1497\u001b[0m \u001b[39m# this function, and just call forward.\u001b[39;00m\n\u001b[1;32m   1498\u001b[0m \u001b[39mif\u001b[39;00m \u001b[39mnot\u001b[39;00m (\u001b[39mself\u001b[39m\u001b[39m.\u001b[39m_backward_hooks \u001b[39mor\u001b[39;00m \u001b[39mself\u001b[39m\u001b[39m.\u001b[39m_backward_pre_hooks \u001b[39mor\u001b[39;00m \u001b[39mself\u001b[39m\u001b[39m.\u001b[39m_forward_hooks \u001b[39mor\u001b[39;00m \u001b[39mself\u001b[39m\u001b[39m.\u001b[39m_forward_pre_hooks\n\u001b[1;32m   1499\u001b[0m         \u001b[39mor\u001b[39;00m _global_backward_pre_hooks \u001b[39mor\u001b[39;00m _global_backward_hooks\n\u001b[1;32m   1500\u001b[0m         \u001b[39mor\u001b[39;00m _global_forward_hooks \u001b[39mor\u001b[39;00m _global_forward_pre_hooks):\n\u001b[0;32m-> 1501\u001b[0m     \u001b[39mreturn\u001b[39;00m forward_call(\u001b[39m*\u001b[39;49margs, \u001b[39m*\u001b[39;49m\u001b[39m*\u001b[39;49mkwargs)\n\u001b[1;32m   1502\u001b[0m \u001b[39m# Do not call functions when jit is used\u001b[39;00m\n\u001b[1;32m   1503\u001b[0m full_backward_hooks, non_full_backward_hooks \u001b[39m=\u001b[39m [], []\n",
      "File \u001b[0;32m~/opt/anaconda3/envs/torch/lib/python3.10/site-packages/torch/nn/modules/transformer.py:306\u001b[0m, in \u001b[0;36mTransformerEncoder.forward\u001b[0;34m(self, src, mask, src_key_padding_mask, is_causal)\u001b[0m\n\u001b[1;32m    303\u001b[0m is_causal \u001b[39m=\u001b[39m make_causal\n\u001b[1;32m    305\u001b[0m \u001b[39mfor\u001b[39;00m mod \u001b[39min\u001b[39;00m \u001b[39mself\u001b[39m\u001b[39m.\u001b[39mlayers:\n\u001b[0;32m--> 306\u001b[0m     output \u001b[39m=\u001b[39m mod(output, src_mask\u001b[39m=\u001b[39;49mmask, is_causal\u001b[39m=\u001b[39;49mis_causal, src_key_padding_mask\u001b[39m=\u001b[39;49msrc_key_padding_mask_for_layers)\n\u001b[1;32m    308\u001b[0m \u001b[39mif\u001b[39;00m convert_to_nested:\n\u001b[1;32m    309\u001b[0m     output \u001b[39m=\u001b[39m output\u001b[39m.\u001b[39mto_padded_tensor(\u001b[39m0.\u001b[39m)\n",
      "File \u001b[0;32m~/opt/anaconda3/envs/torch/lib/python3.10/site-packages/torch/nn/modules/module.py:1501\u001b[0m, in \u001b[0;36mModule._call_impl\u001b[0;34m(self, *args, **kwargs)\u001b[0m\n\u001b[1;32m   1496\u001b[0m \u001b[39m# If we don't have any hooks, we want to skip the rest of the logic in\u001b[39;00m\n\u001b[1;32m   1497\u001b[0m \u001b[39m# this function, and just call forward.\u001b[39;00m\n\u001b[1;32m   1498\u001b[0m \u001b[39mif\u001b[39;00m \u001b[39mnot\u001b[39;00m (\u001b[39mself\u001b[39m\u001b[39m.\u001b[39m_backward_hooks \u001b[39mor\u001b[39;00m \u001b[39mself\u001b[39m\u001b[39m.\u001b[39m_backward_pre_hooks \u001b[39mor\u001b[39;00m \u001b[39mself\u001b[39m\u001b[39m.\u001b[39m_forward_hooks \u001b[39mor\u001b[39;00m \u001b[39mself\u001b[39m\u001b[39m.\u001b[39m_forward_pre_hooks\n\u001b[1;32m   1499\u001b[0m         \u001b[39mor\u001b[39;00m _global_backward_pre_hooks \u001b[39mor\u001b[39;00m _global_backward_hooks\n\u001b[1;32m   1500\u001b[0m         \u001b[39mor\u001b[39;00m _global_forward_hooks \u001b[39mor\u001b[39;00m _global_forward_pre_hooks):\n\u001b[0;32m-> 1501\u001b[0m     \u001b[39mreturn\u001b[39;00m forward_call(\u001b[39m*\u001b[39;49margs, \u001b[39m*\u001b[39;49m\u001b[39m*\u001b[39;49mkwargs)\n\u001b[1;32m   1502\u001b[0m \u001b[39m# Do not call functions when jit is used\u001b[39;00m\n\u001b[1;32m   1503\u001b[0m full_backward_hooks, non_full_backward_hooks \u001b[39m=\u001b[39m [], []\n",
      "File \u001b[0;32m~/opt/anaconda3/envs/torch/lib/python3.10/site-packages/torch/nn/modules/transformer.py:574\u001b[0m, in \u001b[0;36mTransformerEncoderLayer.forward\u001b[0;34m(self, src, src_mask, src_key_padding_mask, is_causal)\u001b[0m\n\u001b[1;32m    572\u001b[0m \u001b[39melse\u001b[39;00m:\n\u001b[1;32m    573\u001b[0m     x \u001b[39m=\u001b[39m \u001b[39mself\u001b[39m\u001b[39m.\u001b[39mnorm1(x \u001b[39m+\u001b[39m \u001b[39mself\u001b[39m\u001b[39m.\u001b[39m_sa_block(x, src_mask, src_key_padding_mask))\n\u001b[0;32m--> 574\u001b[0m     x \u001b[39m=\u001b[39m \u001b[39mself\u001b[39m\u001b[39m.\u001b[39mnorm2(x \u001b[39m+\u001b[39m \u001b[39mself\u001b[39;49m\u001b[39m.\u001b[39;49m_ff_block(x))\n\u001b[1;32m    576\u001b[0m \u001b[39mreturn\u001b[39;00m x\n",
      "File \u001b[0;32m~/opt/anaconda3/envs/torch/lib/python3.10/site-packages/torch/nn/modules/transformer.py:589\u001b[0m, in \u001b[0;36mTransformerEncoderLayer._ff_block\u001b[0;34m(self, x)\u001b[0m\n\u001b[1;32m    588\u001b[0m \u001b[39mdef\u001b[39;00m \u001b[39m_ff_block\u001b[39m(\u001b[39mself\u001b[39m, x: Tensor) \u001b[39m-\u001b[39m\u001b[39m>\u001b[39m Tensor:\n\u001b[0;32m--> 589\u001b[0m     x \u001b[39m=\u001b[39m \u001b[39mself\u001b[39m\u001b[39m.\u001b[39mlinear2(\u001b[39mself\u001b[39;49m\u001b[39m.\u001b[39;49mdropout(\u001b[39mself\u001b[39;49m\u001b[39m.\u001b[39;49mactivation(\u001b[39mself\u001b[39;49m\u001b[39m.\u001b[39;49mlinear1(x))))\n\u001b[1;32m    590\u001b[0m     \u001b[39mreturn\u001b[39;00m \u001b[39mself\u001b[39m\u001b[39m.\u001b[39mdropout2(x)\n",
      "File \u001b[0;32m~/opt/anaconda3/envs/torch/lib/python3.10/site-packages/torch/nn/modules/module.py:1501\u001b[0m, in \u001b[0;36mModule._call_impl\u001b[0;34m(self, *args, **kwargs)\u001b[0m\n\u001b[1;32m   1496\u001b[0m \u001b[39m# If we don't have any hooks, we want to skip the rest of the logic in\u001b[39;00m\n\u001b[1;32m   1497\u001b[0m \u001b[39m# this function, and just call forward.\u001b[39;00m\n\u001b[1;32m   1498\u001b[0m \u001b[39mif\u001b[39;00m \u001b[39mnot\u001b[39;00m (\u001b[39mself\u001b[39m\u001b[39m.\u001b[39m_backward_hooks \u001b[39mor\u001b[39;00m \u001b[39mself\u001b[39m\u001b[39m.\u001b[39m_backward_pre_hooks \u001b[39mor\u001b[39;00m \u001b[39mself\u001b[39m\u001b[39m.\u001b[39m_forward_hooks \u001b[39mor\u001b[39;00m \u001b[39mself\u001b[39m\u001b[39m.\u001b[39m_forward_pre_hooks\n\u001b[1;32m   1499\u001b[0m         \u001b[39mor\u001b[39;00m _global_backward_pre_hooks \u001b[39mor\u001b[39;00m _global_backward_hooks\n\u001b[1;32m   1500\u001b[0m         \u001b[39mor\u001b[39;00m _global_forward_hooks \u001b[39mor\u001b[39;00m _global_forward_pre_hooks):\n\u001b[0;32m-> 1501\u001b[0m     \u001b[39mreturn\u001b[39;00m forward_call(\u001b[39m*\u001b[39;49margs, \u001b[39m*\u001b[39;49m\u001b[39m*\u001b[39;49mkwargs)\n\u001b[1;32m   1502\u001b[0m \u001b[39m# Do not call functions when jit is used\u001b[39;00m\n\u001b[1;32m   1503\u001b[0m full_backward_hooks, non_full_backward_hooks \u001b[39m=\u001b[39m [], []\n",
      "File \u001b[0;32m~/opt/anaconda3/envs/torch/lib/python3.10/site-packages/torch/nn/modules/dropout.py:59\u001b[0m, in \u001b[0;36mDropout.forward\u001b[0;34m(self, input)\u001b[0m\n\u001b[1;32m     58\u001b[0m \u001b[39mdef\u001b[39;00m \u001b[39mforward\u001b[39m(\u001b[39mself\u001b[39m, \u001b[39minput\u001b[39m: Tensor) \u001b[39m-\u001b[39m\u001b[39m>\u001b[39m Tensor:\n\u001b[0;32m---> 59\u001b[0m     \u001b[39mreturn\u001b[39;00m F\u001b[39m.\u001b[39;49mdropout(\u001b[39minput\u001b[39;49m, \u001b[39mself\u001b[39;49m\u001b[39m.\u001b[39;49mp, \u001b[39mself\u001b[39;49m\u001b[39m.\u001b[39;49mtraining, \u001b[39mself\u001b[39;49m\u001b[39m.\u001b[39;49minplace)\n",
      "File \u001b[0;32m~/opt/anaconda3/envs/torch/lib/python3.10/site-packages/torch/nn/functional.py:1252\u001b[0m, in \u001b[0;36mdropout\u001b[0;34m(input, p, training, inplace)\u001b[0m\n\u001b[1;32m   1250\u001b[0m \u001b[39mif\u001b[39;00m p \u001b[39m<\u001b[39m \u001b[39m0.0\u001b[39m \u001b[39mor\u001b[39;00m p \u001b[39m>\u001b[39m \u001b[39m1.0\u001b[39m:\n\u001b[1;32m   1251\u001b[0m     \u001b[39mraise\u001b[39;00m \u001b[39mValueError\u001b[39;00m(\u001b[39m\"\u001b[39m\u001b[39mdropout probability has to be between 0 and 1, \u001b[39m\u001b[39m\"\u001b[39m \u001b[39m\"\u001b[39m\u001b[39mbut got \u001b[39m\u001b[39m{}\u001b[39;00m\u001b[39m\"\u001b[39m\u001b[39m.\u001b[39mformat(p))\n\u001b[0;32m-> 1252\u001b[0m \u001b[39mreturn\u001b[39;00m _VF\u001b[39m.\u001b[39mdropout_(\u001b[39minput\u001b[39m, p, training) \u001b[39mif\u001b[39;00m inplace \u001b[39melse\u001b[39;00m _VF\u001b[39m.\u001b[39;49mdropout(\u001b[39minput\u001b[39;49m, p, training)\n",
      "\u001b[0;31mKeyboardInterrupt\u001b[0m: "
     ]
    }
   ],
   "source": [
    "observation, info = env.reset()\n",
    "image_feature = observation['image']\n",
    "text_feature = observation['description']\n",
    "ts_feature = observation['ts_feature']\n",
    "ts_data = observation['ts']\n",
    "usd_wallet = observation['usd_wallet']\n",
    "nft_wallet = observation['nft_wallet']\n",
    "\n",
    "infos = []\n",
    "\n",
    "for _ in range(1000):\n",
    "    # agent policy that uses the observation and info\n",
    "    action, percentage = model(\n",
    "        ts_features=ts_feature,\n",
    "        image_features=image_feature,\n",
    "        text_features=text_feature,\n",
    "        ts_data=ts_data,\n",
    "        usd_wallet=usd_wallet,\n",
    "        nft_wallet=nft_wallet,\n",
    "    )\n",
    "    action = torch.argmax(action, dim=1).item()\n",
    "    percentage = percentage.item()\n",
    "\n",
    "    action = (action, percentage)\n",
    "    \n",
    "    print('action:', action)\n",
    "\n",
    "    observation, reward, terminated, truncated, info = env.step(action)\n",
    "\n",
    "    image_feature = observation['image']\n",
    "    text_feature = observation['description']\n",
    "    ts_feature = observation['ts_feature']\n",
    "    ts_data = observation['ts']\n",
    "    usd_wallet = observation['usd_wallet']\n",
    "    nft_wallet = observation['nft_wallet']\n",
    "\n",
    "    infos.append(info)\n",
    "\n",
    "    print(info)\n",
    "\n",
    "    if terminated:\n",
    "        print(terminated)\n",
    "        # break\n"
   ]
  },
  {
   "cell_type": "code",
   "execution_count": null,
   "metadata": {},
   "outputs": [],
   "source": []
  }
 ],
 "metadata": {
  "kernelspec": {
   "display_name": "torch",
   "language": "python",
   "name": "python3"
  },
  "language_info": {
   "codemirror_mode": {
    "name": "ipython",
    "version": 3
   },
   "file_extension": ".py",
   "mimetype": "text/x-python",
   "name": "python",
   "nbconvert_exporter": "python",
   "pygments_lexer": "ipython3",
   "version": "3.10.11"
  },
  "orig_nbformat": 4
 },
 "nbformat": 4,
 "nbformat_minor": 2
}
