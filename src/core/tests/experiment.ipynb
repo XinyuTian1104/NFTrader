{
 "cells": [
  {
   "cell_type": "code",
   "execution_count": 1,
   "metadata": {},
   "outputs": [],
   "source": [
    "import torch"
   ]
  },
  {
   "cell_type": "code",
   "execution_count": 2,
   "metadata": {},
   "outputs": [],
   "source": [
    "VECTOR_LENGTH = 16 * 5 + 3 * 224 * 224 + 16 * 5 + 1 + 1"
   ]
  },
  {
   "cell_type": "code",
   "execution_count": 15,
   "metadata": {},
   "outputs": [],
   "source": [
    "x = torch.randn(16, VECTOR_LENGTH, dtype=torch.float32)\n"
   ]
  },
  {
   "cell_type": "code",
   "execution_count": 21,
   "metadata": {},
   "outputs": [],
   "source": [
    "# shape of x: (batch_size, VECTOR_LENGTH)\n",
    "# structure of x:\n",
    "#  - ts_feature: (batch_size, 16, 5)\n",
    "#  - image_feature: (batch_size, 3, 224, 224)\n",
    "#  - ts_data: (batch_size, 16, 5)\n",
    "#  - usd_wallet: (batch_size, 1)\n",
    "#  - nft_wallet: (batch_size, 1)\n",
    "# split x into different features\n",
    "ts_features = x[:, :16 * 5].reshape(-1, 16, 5)\n",
    "image_features = x[:, 16 * 5:16 *\n",
    "                              5 + 3 * 224 * 224].reshape(-1, 3, 224, 224)\n",
    "ts_data = x[:, 16 * 5 + 3 * 224 *\n",
    "                       224:16 * 5 + 3 * 224 * 224 + 16 * 5].reshape(-1, 16, 5)\n",
    "usd_wallet = x[:, 16 * 5 + 3 * 224 * 224 + 16 * 5].reshape(-1, 1)\n",
    "nft_wallet = x[:, 16 * 5 + 3 *\n",
    "                          224 * 224 + 16 * 5 + 1].reshape(-1, 1)\n"
   ]
  },
  {
   "cell_type": "code",
   "execution_count": 18,
   "metadata": {},
   "outputs": [],
   "source": [
    "ts_features = ts_features.reshape(-1, 16, 5)\n"
   ]
  },
  {
   "cell_type": "code",
   "execution_count": null,
   "metadata": {},
   "outputs": [],
   "source": []
  }
 ],
 "metadata": {
  "kernelspec": {
   "display_name": "torch",
   "language": "python",
   "name": "python3"
  },
  "language_info": {
   "codemirror_mode": {
    "name": "ipython",
    "version": 3
   },
   "file_extension": ".py",
   "mimetype": "text/x-python",
   "name": "python",
   "nbconvert_exporter": "python",
   "pygments_lexer": "ipython3",
   "version": "3.10.11"
  },
  "orig_nbformat": 4
 },
 "nbformat": 4,
 "nbformat_minor": 2
}
