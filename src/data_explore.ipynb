{
 "cells": [
  {
   "cell_type": "code",
   "execution_count": 1,
   "metadata": {},
   "outputs": [],
   "source": [
    "from utils.db import DB"
   ]
  },
  {
   "cell_type": "code",
   "execution_count": 4,
   "metadata": {},
   "outputs": [],
   "source": [
    "import nfts.dataset"
   ]
  },
  {
   "cell_type": "code",
   "execution_count": 2,
   "metadata": {},
   "outputs": [],
   "source": [
    "db = DB('../data/nfts.sqlite')"
   ]
  },
  {
   "cell_type": "code",
   "execution_count": 6,
   "metadata": {},
   "outputs": [],
   "source": [
    "ds = nfts.dataset.FromSQLite('../data/nfts.sqlite')"
   ]
  },
  {
   "cell_type": "code",
   "execution_count": 12,
   "metadata": {},
   "outputs": [
    {
     "name": "stdout",
     "output_type": "stream",
     "text": [
      "\n",
      "The Moonstream NFTs dataset\n",
      "===========================\n",
      "\n",
      "To load the NFTs dataset from a SQLite file, run:\n",
      ">>> ds = nfts.dataset.FromSQLite(<path to sqlite database>)\n",
      "\n",
      "This dataset consists of the following dataframes:\n",
      "\n",
      "Dataframe: nfts\n",
      "Load using:\n",
      "\tnfts_df = ds.load_dataframe(<sqlite connection or path to sqlite db>, \"nfts\")\n",
      "\n",
      "Describes the NFT contracts represented in this dataset, with a name and symbol if they were available at time of crawl.\n",
      "\n",
      "Columns:\n",
      "1. address: The Ethereum address of the NFT contract.\n",
      "2. name: The name of the collection of NFTs that the contract represents.\n",
      "3. symbol: The symbol of the collection of NFTs that the contract represents.\n",
      "\n",
      "- - -\n",
      "\n",
      "Dataframe: mints\n",
      "Load using:\n",
      "\tmints_df = ds.load_dataframe(<sqlite connection or path to sqlite db>, \"mints\")\n",
      "\n",
      "All token mint events crawled in this dataset.\n",
      "\n",
      "Columns:\n",
      "1. event_id: A unique event ID associated with the event.\n",
      "2. transaction_hash: The hash of the transaction which triggered the event.\n",
      "3. block_number: The transaction block in which the transaction was mined.\n",
      "4. nft_address: The address of the NFT collection containing the minted token.\n",
      "5. token_id: The ID of the token that was minted.\n",
      "6. from_address: The \"from\" address for the transfer event. For a mint, this should be the 0 address: 0x0000000000000000000000000000000000000000.\n",
      "7. to_address: The \"to\" address for the transfer event. This represents the owner of the freshly minted token.\n",
      "8. transaction_value: The amount of WEI that were sent with the transaction in which the token was minted.\n",
      "9. timestamp: The time at which the mint operation was mined into the blockchain (this is the timestamp for the mined block).\n",
      "\n",
      "- - -\n",
      "\n",
      "Dataframe: transfers\n",
      "Load using:\n",
      "\ttransfers_df = ds.load_dataframe(<sqlite connection or path to sqlite db>, \"transfers\")\n",
      "\n",
      "All token transfer events crawled in this dataset.\n",
      "\n",
      "Columns:\n",
      "1. event_id: A unique event ID associated with the event.\n",
      "2. transaction_hash: The hash of the transaction which triggered the event.\n",
      "3. block_number: The transaction block in which the transaction was mined.\n",
      "4. nft_address: The address of the NFT collection containing the transferred token.\n",
      "5. token_id: The ID of the token that was transferred.\n",
      "6. from_address: The \"from\" address for the transfer event. This is the address that owned the token at the *start* of the transfer.\n",
      "7. to_address: The \"to\" address for the transfer event. This is the address that owned the token at the *end* of the transfer.\n",
      "8. transaction_value: The amount of WEI that were sent with the transaction in which the token was transferred.\n",
      "9. timestamp: The time at which the transfer operation was mined into the blockchain (this is the timestamp for the mined block).\n",
      "\n",
      "- - -\n",
      "\n",
      "Dataframe: current_owners\n",
      "Load using:\n",
      "\tcurrent_owners_df = ds.load_dataframe(<sqlite connection or path to sqlite db>, \"current_owners\")\n",
      "\n",
      "This table is derived from the nfts, mints, and transfers tables. It represents the current owner of each token in the dataset.\n",
      "\n",
      "Columns:\n",
      "1. nft_address: The address of the NFT collection containing the token whose ownership we are denoting.\n",
      "2. token_id: The ID of the token (inside the collection) whose ownership we are denoting.\n",
      "3. owner: The address that owned the token at the time of construction of this dataset.\n",
      "\n",
      "- - -\n",
      "\n",
      "Dataframe: current_market_values\n",
      "Load using:\n",
      "\tcurrent_market_values_df = ds.load_dataframe(<sqlite connection or path to sqlite db>, \"current_market_values\")\n",
      "\n",
      "This table is derived from the nfts, mints, and transfers tables. It represents the current market value (in WEI) of each token in the dataset.\n",
      "\n",
      "Columns:\n",
      "1. nft_address: The address of the NFT collection containing the token whose market value we are denoting.\n",
      "2. token_id: The ID of the token (inside the collection) whose market value we are denoting.\n",
      "3. market_value: The estimated market value of the token at the time of construction of this dataset.\n",
      "\n",
      "For this dataset, we estimate the market value as the last non-zero transaction value for a transfer involving this token.\n",
      "This estimate may be inaccurate for some transfers (e.g. multiple token transfers made by an escrow contract in a single transaction)\n",
      "but ought to be reasonably accurate for a large majority of tokens.\n",
      "\n",
      "- - -\n",
      "\n",
      "Dataframe: transfer_statistics_by_address\n",
      "Load using:\n",
      "\ttransfer_statistics_by_address_df = ds.load_dataframe(<sqlite connection or path to sqlite db>, \"transfer_statistics_by_address\")\n",
      "\n",
      "This table is derived from the nfts, mints, and transfers tables. For each address that participated in\n",
      "at least one NFT transfer between April 1, 2021 and September 25, 2021, this table shows exactly how many NFTs that address transferred to\n",
      "other addresses and how many NFT transfers that address was the recipient of.\n",
      "\n",
      "Columns:\n",
      "1. address: An Ethereum address that participated in at least one NFT transfer between April 1, 2021 and September 25, 2021.\n",
      "2. transfers_out: The number of NFTs that the given address transferred to any other address between April 1, 2021 and September 25, 2021.\n",
      "3. transfers_in: The number of NFTs that any other address transferred to given address between April 1, 2021 and September 25, 2021.\n",
      "\n",
      "- - -\n"
     ]
    }
   ],
   "source": [
    "nfts.dataset.explain()"
   ]
  },
  {
   "cell_type": "code",
   "execution_count": 5,
   "metadata": {},
   "outputs": [
    {
     "data": {
      "text/plain": [
       "[('0xF4ee95274741437636e748DdAc70818B4ED7d043', 'The Doge Pound', 'DOGGY'),\n",
       " ('0xba30E5F9Bb24caa003E9f2f0497Ad287FDF95623', 'BoredApeKennelClub', 'BAKC'),\n",
       " ('0x7403AC30DE7309a0bF019cdA8EeC034a5507cbB3', 'Characters', 'CHAR'),\n",
       " ('0x511372B44231a31527025a3D273C1dc0a83D77aF', 'Maps Restored', 'MAP'),\n",
       " ('0x2E956Ed3D7337F4Ed4316A6e8F2EdF74BF84bb54', 'Neon Junkies', 'JUNKIES'),\n",
       " ('0x03Ea00B0619e19759eE7ba33E8EB8E914fbF52Ea', 'pLOOT', 'pLOOT'),\n",
       " ('0x06012c8cf97BEaD5deAe237070F9587f8E7A266d', 'CryptoKitties', 'CK'),\n",
       " ('0xD81f156bBF7043a22d4cE97C0E8ca11d3f4FB3cC', 'Maps', 'MAP'),\n",
       " ('0xD987C5800EF371844CEaC3D0Ee29E4ff29162d7C', 'SpaceLoot', 'SLOOT'),\n",
       " ('0xdEcC60000ba66700a009b8F9F7D82676B5cfA88A', 'Settlements', 'STL')]"
      ]
     },
     "execution_count": 5,
     "metadata": {},
     "output_type": "execute_result"
    }
   ],
   "source": [
    "db.conn.execute('SELECT * FROM nfts LIMIT 10;').fetchall()"
   ]
  },
  {
   "cell_type": "code",
   "execution_count": 6,
   "metadata": {},
   "outputs": [
    {
     "ename": "OperationalError",
     "evalue": "no tables specified",
     "output_type": "error",
     "traceback": [
      "\u001b[0;31m---------------------------------------------------------------------------\u001b[0m",
      "\u001b[0;31mOperationalError\u001b[0m                          Traceback (most recent call last)",
      "Cell \u001b[0;32mIn[6], line 1\u001b[0m\n\u001b[0;32m----> 1\u001b[0m db\u001b[39m.\u001b[39;49mconn\u001b[39m.\u001b[39;49mexecute(\u001b[39m'\u001b[39;49m\u001b[39mSELECT *\u001b[39;49m\u001b[39m'\u001b[39;49m)\u001b[39m.\u001b[39mfetchall()\n",
      "\u001b[0;31mOperationalError\u001b[0m: no tables specified"
     ]
    }
   ],
   "source": [
    "db.conn.execute('SELECT * FROM ').fetchall()"
   ]
  },
  {
   "cell_type": "code",
   "execution_count": null,
   "metadata": {},
   "outputs": [],
   "source": []
  }
 ],
 "metadata": {
  "kernelspec": {
   "display_name": ".venv",
   "language": "python",
   "name": "python3"
  },
  "language_info": {
   "codemirror_mode": {
    "name": "ipython",
    "version": 3
   },
   "file_extension": ".py",
   "mimetype": "text/x-python",
   "name": "python",
   "nbconvert_exporter": "python",
   "pygments_lexer": "ipython3",
   "version": "3.10.9"
  },
  "orig_nbformat": 4
 },
 "nbformat": 4,
 "nbformat_minor": 2
}
