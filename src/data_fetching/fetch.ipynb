{
 "cells": [
  {
   "cell_type": "code",
   "execution_count": 1,
   "metadata": {},
   "outputs": [],
   "source": [
    "\n",
    "import datetime\n",
    "import json\n",
    "import os\n",
    "import re\n",
    "import time\n",
    "import warnings\n",
    "from datetime import datetime, timedelta\n",
    "from pprint import pprint\n",
    "\n",
    "import dotenv\n",
    "import matplotlib.pyplot as plt\n",
    "import pandas as pd\n",
    "import requests\n",
    "import selenium\n",
    "import snscrape.modules.twitter as sntwitter\n",
    "from bs4 import BeautifulSoup\n",
    "from PIL import Image\n",
    "from pytrends.request import TrendReq\n",
    "from selenium import webdriver\n",
    "from selenium.webdriver.common.keys import Keys\n",
    "from tqdm import tqdm\n",
    "\n",
    "from utils.config import data_path, header\n",
    "\n",
    "warnings.filterwarnings('ignore')\n"
   ]
  },
  {
   "cell_type": "code",
   "execution_count": 2,
   "metadata": {},
   "outputs": [],
   "source": [
    "url = 'https://nftpricefloor.com/0n1-force'"
   ]
  },
  {
   "cell_type": "code",
   "execution_count": 12,
   "metadata": {},
   "outputs": [],
   "source": [
    "driver = webdriver.Chrome()\n"
   ]
  },
  {
   "cell_type": "code",
   "execution_count": 13,
   "metadata": {},
   "outputs": [],
   "source": [
    "driver.get(url)"
   ]
  },
  {
   "cell_type": "code",
   "execution_count": 30,
   "metadata": {},
   "outputs": [],
   "source": [
    "# find all <p> with class mt-4 dark:text-white\n",
    "paras = driver.find_elements_by_xpath(\"//p[@class='mt-4 dark:text-white']\")"
   ]
  },
  {
   "cell_type": "code",
   "execution_count": 51,
   "metadata": {},
   "outputs": [],
   "source": [
    "driver = webdriver.Chrome()\n"
   ]
  },
  {
   "cell_type": "code",
   "execution_count": 36,
   "metadata": {},
   "outputs": [
    {
     "data": {
      "text/plain": [
       "\"0N1 Force is an NFT collectible created by that was released on 8-15-2021. The project consists of 7,777 unique digital items living on the Ethereum blockchain. We categorize it as a pfp/avatar project and it's part of the 0n1verse general collection.\""
      ]
     },
     "execution_count": 36,
     "metadata": {},
     "output_type": "execute_result"
    }
   ],
   "source": [
    "def get_desc(slug, driver):\n",
    "    url = f'https://nftpricefloor.com/{slug}'\n",
    "    driver.get(url)\n",
    "    paras = driver.find_elements_by_xpath(\"//p[@class='mt-4 dark:text-white']\")\n",
    "    return paras[0].text"
   ]
  },
  {
   "cell_type": "code",
   "execution_count": 44,
   "metadata": {},
   "outputs": [],
   "source": [
    "raw_data_dir = os.path.join(data_path, 'raw')\n",
    "dirs = os.listdir(raw_data_dir)"
   ]
  },
  {
   "cell_type": "code",
   "execution_count": 53,
   "metadata": {},
   "outputs": [
    {
     "name": "stdout",
     "output_type": "stream",
     "text": [
      "fetched description: CyberKongz Babies is an NFT collectible created by Undefined that was released on 2-9-2022. The project consists of 4,000 unique digital items living on the Ethereum blockchain. We categorize it as a pfp/avatar project.\n"
     ]
    }
   ],
   "source": [
    "for slug in dirs:\n",
    "    # check if there is description.txt\n",
    "    desc_path = os.path.join(raw_data_dir, slug, 'description.txt')\n",
    "    if not os.path.exists(desc_path):\n",
    "        desc = get_desc(slug, driver)\n",
    "        print(f'fetched description: {desc}')\n",
    "        # save to description.txt\n",
    "        with open(desc_path, 'w') as f:\n",
    "            f.write(desc)\n",
    "        break\n"
   ]
  },
  {
   "cell_type": "code",
   "execution_count": null,
   "metadata": {},
   "outputs": [],
   "source": []
  }
 ],
 "metadata": {
  "kernelspec": {
   "display_name": "Python 3 (ipykernel)",
   "language": "python",
   "name": "python3"
  },
  "language_info": {
   "codemirror_mode": {
    "name": "ipython",
    "version": 3
   },
   "file_extension": ".py",
   "mimetype": "text/x-python",
   "name": "python",
   "nbconvert_exporter": "python",
   "pygments_lexer": "ipython3",
   "version": "3.9.12"
  }
 },
 "nbformat": 4,
 "nbformat_minor": 2
}
