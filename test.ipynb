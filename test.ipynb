{
 "cells": [
  {
   "cell_type": "code",
   "execution_count": 68,
   "metadata": {},
   "outputs": [],
   "source": [
    "import torch\n",
    "import torch.nn as nn\n",
    "import torch.nn.functional as F\n",
    "from torch.nn import TransformerEncoder, TransformerEncoderLayer\n",
    "\n",
    "\n",
    "# Define the decision network architecture\n",
    "class DecisionNetwork(nn.Module):\n",
    "    def __init__(self, encode_feature_dim, ts_timestep, ts_dim, manual_feature_dim, n_classes=3):\n",
    "        super(DecisionNetwork, self).__init__()\n",
    "\n",
    "        self.transformer_encoder_layer = TransformerEncoderLayer(\n",
    "            d_model=ts_dim, nhead=4)\n",
    "        self.transformer_encoder = TransformerEncoder(\n",
    "            self.transformer_encoder_layer, num_layers=2)\n",
    "\n",
    "        self.fc1 = nn.Linear(encode_feature_dim +\n",
    "                             ts_dim + manual_feature_dim, 256)\n",
    "        self.fc2 = nn.Linear(256, 128)\n",
    "        self.fc3 = nn.Linear(128, n_classes)\n",
    "        # Additional output for transaction percentage\n",
    "        self.fc4 = nn.Linear(128, 1)\n",
    "\n",
    "    def forward(self, encode_features, ts_data, manual_features):\n",
    "        # Apply the transformer encoder to time series data\n",
    "        transformer_output = self.transformer_encoder(ts_data)\n",
    "\n",
    "        # Get the last time step output\n",
    "        last_ts_output = transformer_output[:, -1, :]\n",
    "\n",
    "        # Concatenate the three inputs\n",
    "        combined_features = torch.cat(\n",
    "            (encode_features, last_ts_output, manual_features), dim=1)\n",
    "\n",
    "        # Pass through the fully connected layers\n",
    "        x = F.relu(self.fc1(combined_features))\n",
    "        x = F.relu(self.fc2(x))\n",
    "        actions = self.fc3(x)\n",
    "        # Output percentage using sigmoid activation function\n",
    "        percentage = torch.sigmoid(self.fc4(x))\n",
    "\n",
    "        return actions, percentage\n"
   ]
  },
  {
   "cell_type": "code",
   "execution_count": 69,
   "metadata": {},
   "outputs": [],
   "source": [
    "# Sample data\n",
    "batch_size = 32\n",
    "encode_feature_dim = 2048 * 3\n",
    "ts_timestep = 64\n",
    "ts_dim = 8\n",
    "manual_feature_dim = 16\n",
    "\n",
    "encode_features = torch.randn(batch_size, encode_feature_dim)\n",
    "ts_data = torch.randn(batch_size, ts_timestep, ts_dim)\n",
    "manual_features = torch.randn(batch_size, manual_feature_dim)"
   ]
  },
  {
   "cell_type": "code",
   "execution_count": 74,
   "metadata": {},
   "outputs": [],
   "source": [
    "# Create the decision network and process sample data\n",
    "decision_network = DecisionNetwork(\n",
    "    encode_feature_dim, ts_timestep, ts_dim, manual_feature_dim)\n",
    "\n",
    "with torch.no_grad():\n",
    "    output = decision_network(encode_features, ts_data, manual_features)\n"
   ]
  },
  {
   "cell_type": "code",
   "execution_count": 75,
   "metadata": {},
   "outputs": [
    {
     "name": "stdout",
     "output_type": "stream",
     "text": [
      "Predicted actions: tensor([2, 2, 2, 0, 2, 2, 2, 2, 2, 2, 2, 2, 2, 2, 2, 2, 2, 2, 2, 2, 2, 2, 2, 2,\n",
      "        2, 2, 2, 2, 2, 2, 2, 2])\n",
      "Transaction percentage: tensor([[0.4851],\n",
      "        [0.4943],\n",
      "        [0.4714],\n",
      "        [0.4766],\n",
      "        [0.4780],\n",
      "        [0.4956],\n",
      "        [0.4784],\n",
      "        [0.5009],\n",
      "        [0.4764],\n",
      "        [0.4911],\n",
      "        [0.5031],\n",
      "        [0.4828],\n",
      "        [0.4957],\n",
      "        [0.5019],\n",
      "        [0.4734],\n",
      "        [0.4959],\n",
      "        [0.5020],\n",
      "        [0.5029],\n",
      "        [0.4645],\n",
      "        [0.4734],\n",
      "        [0.4888],\n",
      "        [0.5000],\n",
      "        [0.5093],\n",
      "        [0.4858],\n",
      "        [0.4957],\n",
      "        [0.4809],\n",
      "        [0.4946],\n",
      "        [0.4992],\n",
      "        [0.4592],\n",
      "        [0.4899],\n",
      "        [0.4794],\n",
      "        [0.5001]], grad_fn=<SigmoidBackward0>)\n",
      "Transaction amount: tensor([48.5064, 49.4330, 47.1433, 47.6578, 47.7963, 49.5598, 47.8422, 50.0944,\n",
      "        47.6390, 49.1070, 50.3082, 48.2848, 49.5744, 50.1866, 47.3430, 49.5930,\n",
      "        50.1999, 50.2855, 46.4516, 47.3414, 48.8757, 50.0034, 50.9306, 48.5815,\n",
      "        49.5719, 48.0887, 49.4617, 49.9227, 45.9162, 48.9934, 47.9399, 50.0113],\n",
      "       grad_fn=<SqueezeBackward0>)\n"
     ]
    }
   ],
   "source": [
    "# Process sample data\n",
    "output_actions, output_percentage = decision_network(encode_features, ts_data, manual_features)\n",
    "\n",
    "# Get the most likely action\n",
    "predicted_actions = torch.argmax(output_actions, dim=1)\n",
    "\n",
    "# Calculate the amount to buy, sell, or hold\n",
    "current_holdings = 100\n",
    "transaction_amount = (output_percentage * current_holdings).squeeze()\n",
    "\n",
    "print(\"Predicted actions:\", predicted_actions)\n",
    "print(\"Transaction percentage:\", output_percentage)\n",
    "print(\"Transaction amount:\", transaction_amount)\n"
   ]
  },
  {
   "cell_type": "code",
   "execution_count": null,
   "metadata": {},
   "outputs": [],
   "source": []
  }
 ],
 "metadata": {
  "kernelspec": {
   "display_name": "torch",
   "language": "python",
   "name": "python3"
  },
  "language_info": {
   "codemirror_mode": {
    "name": "ipython",
    "version": 3
   },
   "file_extension": ".py",
   "mimetype": "text/x-python",
   "name": "python",
   "nbconvert_exporter": "python",
   "pygments_lexer": "ipython3",
   "version": "3.10.11"
  },
  "orig_nbformat": 4
 },
 "nbformat": 4,
 "nbformat_minor": 2
}
